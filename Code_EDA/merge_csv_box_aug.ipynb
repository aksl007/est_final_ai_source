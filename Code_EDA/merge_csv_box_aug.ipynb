{
 "cells": [
  {
   "cell_type": "code",
   "execution_count": 2,
   "metadata": {},
   "outputs": [],
   "source": [
    "import pandas as pd"
   ]
  },
  {
   "cell_type": "code",
   "execution_count": 12,
   "metadata": {},
   "outputs": [],
   "source": [
    "img_path_anger = '/workspace/Data_Augumentation/out_box_masking/image/train/anger/'\n",
    "img_path_happy = '/workspace/Data_Augumentation/out_box_masking/image/train/happy/'\n",
    "img_path_panic = '/workspace/Data_Augumentation/out_box_masking/image/train/panic/'\n",
    "img_path_sadness = '/workspace/Data_Augumentation/out_box_masking/image/train/sadness/'"
   ]
  },
  {
   "cell_type": "code",
   "execution_count": 13,
   "metadata": {},
   "outputs": [],
   "source": [
    "df_train_anger = pd.read_csv('/workspace/Data_Augumentation/out_box_masking/label/train/mask_boxout_train_anger.csv')\n",
    "df_train_happy = pd.read_csv('/workspace/Data_Augumentation/out_box_masking/label/train/mask_boxout_train_happy.csv')\n",
    "df_train_panic = pd.read_csv('/workspace/Data_Augumentation/out_box_masking/label/train/mask_boxout_train_panic.csv')\n",
    "df_train_sadness = pd.read_csv('/workspace/Data_Augumentation/out_box_masking/label/train/mask_boxout_train_sadness.csv')"
   ]
  },
  {
   "cell_type": "code",
   "execution_count": 14,
   "metadata": {},
   "outputs": [],
   "source": [
    "df_train_anger['path'] = img_path_anger         # '/workspace/Data_Augumentation/out_box_masking/image/train/anger/'\n",
    "df_train_happy['path'] = img_path_happy         # '/workspace/Data_Augumentation/out_box_masking/image/train/happy/'\n",
    "df_train_panic['path'] = img_path_panic         # '/workspace/Data_Augumentation/out_box_masking/image/train/panic/'\n",
    "df_train_sadness['path'] = img_path_sadness     # '/workspace/Data_Augumentation/out_box_masking/image/train/sadness/'"
   ]
  },
  {
   "cell_type": "code",
   "execution_count": 18,
   "metadata": {},
   "outputs": [],
   "source": [
    "combined_df = pd.concat([df_train_anger, df_train_happy, df_train_panic, df_train_sadness], axis=0)"
   ]
  },
  {
   "cell_type": "code",
   "execution_count": 23,
   "metadata": {},
   "outputs": [
    {
     "name": "stdout",
     "output_type": "stream",
     "text": [
      "<class 'pandas.core.frame.DataFrame'>\n",
      "Index: 5993 entries, 0 to 1498\n",
      "Data columns (total 7 columns):\n",
      " #   Column            Non-Null Count  Dtype \n",
      "---  ------            --------------  ----- \n",
      " 0   filename          5993 non-null   object\n",
      " 1   maxX              5993 non-null   int64 \n",
      " 2   maxY              5993 non-null   int64 \n",
      " 3   minX              5993 non-null   int64 \n",
      " 4   minY              5993 non-null   int64 \n",
      " 5   faceExp_uploader  5993 non-null   object\n",
      " 6   path              5993 non-null   object\n",
      "dtypes: int64(4), object(3)\n",
      "memory usage: 374.6+ KB\n"
     ]
    }
   ],
   "source": [
    "combined_df.info()"
   ]
  },
  {
   "cell_type": "code",
   "execution_count": 24,
   "metadata": {},
   "outputs": [],
   "source": [
    "combined_df.to_csv('/workspace/Data_Augumentation/out_box_masking/label/train/mask_boxout.csv', index=False)"
   ]
  },
  {
   "cell_type": "code",
   "execution_count": null,
   "metadata": {},
   "outputs": [],
   "source": []
  }
 ],
 "metadata": {
  "kernelspec": {
   "display_name": "uk",
   "language": "python",
   "name": "python3"
  },
  "language_info": {
   "codemirror_mode": {
    "name": "ipython",
    "version": 3
   },
   "file_extension": ".py",
   "mimetype": "text/x-python",
   "name": "python",
   "nbconvert_exporter": "python",
   "pygments_lexer": "ipython3",
   "version": "3.10.15"
  }
 },
 "nbformat": 4,
 "nbformat_minor": 2
}
