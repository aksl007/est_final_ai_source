{
 "cells": [
  {
   "cell_type": "code",
   "execution_count": 1,
   "metadata": {},
   "outputs": [],
   "source": [
    "import pandas as pd"
   ]
  },
  {
   "cell_type": "code",
   "execution_count": 2,
   "metadata": {},
   "outputs": [],
   "source": [
    "img_path_train_anger = '/workspace/#Ub370#Uc774#Ud130/Data/img/train/anger/'\n",
    "img_path_train_happy = '/workspace/#Ub370#Uc774#Ud130/Data/img/train/happy/'\n",
    "img_path_train_panic = '/workspace/#Ub370#Uc774#Ud130/Data/img/train/panic/'\n",
    "img_path_train_sadness = '/workspace/#Ub370#Uc774#Ud130/Data/img/train/sadness/'"
   ]
  },
  {
   "cell_type": "code",
   "execution_count": 3,
   "metadata": {},
   "outputs": [],
   "source": [
    "df_train_anger = pd.read_csv('/workspace/#Ub370#Uc774#Ud130/Data/label/train/train_anger_1.csv')\n",
    "df_train_happy = pd.read_csv('/workspace/#Ub370#Uc774#Ud130/Data/label/train/train_happy_1.csv')\n",
    "df_train_panic = pd.read_csv('/workspace/#Ub370#Uc774#Ud130/Data/label/train/train_panic_1.csv')\n",
    "df_train_sadness = pd.read_csv('/workspace/#Ub370#Uc774#Ud130/Data/label/train/train_sadness_1.csv')"
   ]
  },
  {
   "cell_type": "code",
   "execution_count": 4,
   "metadata": {},
   "outputs": [
    {
     "data": {
      "text/plain": [
       "Index(['filename', 'faceExp_uploader', 'annot_A.boxes.maxX',\n",
       "       'annot_A.boxes.maxY', 'annot_A.boxes.minX', 'annot_A.boxes.minY',\n",
       "       'annot_B.boxes.maxX', 'annot_B.boxes.maxY', 'annot_B.boxes.minX',\n",
       "       'annot_B.boxes.minY', 'annot_C.boxes.maxX', 'annot_C.boxes.maxY',\n",
       "       'annot_C.boxes.minX', 'annot_C.boxes.minY', 'avg_box.maxX',\n",
       "       'avg_box.maxY', 'avg_box.minX', 'avg_box.minY'],\n",
       "      dtype='object')"
      ]
     },
     "execution_count": 4,
     "metadata": {},
     "output_type": "execute_result"
    }
   ],
   "source": [
    "df_train_anger.columns"
   ]
  },
  {
   "cell_type": "code",
   "execution_count": 5,
   "metadata": {},
   "outputs": [],
   "source": [
    "columns_to_drop = [\n",
    "    'annot_A.boxes.maxX','annot_A.boxes.maxY', 'annot_A.boxes.minX', 'annot_A.boxes.minY',\n",
    "    'annot_B.boxes.maxX', 'annot_B.boxes.maxY', 'annot_B.boxes.minX', 'annot_B.boxes.minY', \n",
    "    'annot_C.boxes.maxX', 'annot_C.boxes.maxY','annot_C.boxes.minX', 'annot_C.boxes.minY'\n",
    "    ]\n",
    "\n",
    "df_train_anger = df_train_anger.drop(columns=columns_to_drop)\n",
    "df_train_happy = df_train_happy.drop(columns=columns_to_drop)\n",
    "df_train_panic = df_train_panic.drop(columns=columns_to_drop)\n",
    "df_train_sadness = df_train_sadness.drop(columns=columns_to_drop)\n"
   ]
  },
  {
   "cell_type": "code",
   "execution_count": 6,
   "metadata": {},
   "outputs": [
    {
     "data": {
      "text/plain": [
       "Index(['filename', 'faceExp_uploader', 'avg_box.maxX', 'avg_box.maxY',\n",
       "       'avg_box.minX', 'avg_box.minY'],\n",
       "      dtype='object')"
      ]
     },
     "execution_count": 6,
     "metadata": {},
     "output_type": "execute_result"
    }
   ],
   "source": [
    "df_train_sadness.columns"
   ]
  },
  {
   "cell_type": "code",
   "execution_count": 7,
   "metadata": {},
   "outputs": [],
   "source": [
    "columns_to_rename = {'avg_box.maxX':'maxX','avg_box.maxY':'maxY', 'avg_box.minX':'minX', 'avg_box.minY':'minY'}\n",
    "\n",
    "df_train_anger = df_train_anger.rename(columns=columns_to_rename)\n",
    "df_train_happy = df_train_happy.rename(columns=columns_to_rename)\n",
    "df_train_panic = df_train_panic.rename(columns=columns_to_rename)\n",
    "df_train_sadness = df_train_sadness.rename(columns=columns_to_rename)"
   ]
  },
  {
   "cell_type": "code",
   "execution_count": 8,
   "metadata": {},
   "outputs": [
    {
     "data": {
      "text/plain": [
       "Index(['filename', 'faceExp_uploader', 'maxX', 'maxY', 'minX', 'minY'], dtype='object')"
      ]
     },
     "execution_count": 8,
     "metadata": {},
     "output_type": "execute_result"
    }
   ],
   "source": [
    "df_train_sadness.columns"
   ]
  },
  {
   "cell_type": "code",
   "execution_count": 9,
   "metadata": {},
   "outputs": [],
   "source": [
    "df_train_anger = df_train_anger[['filename', 'maxX', 'maxY', 'minX', 'minY', 'faceExp_uploader']]\n",
    "df_train_happy = df_train_happy[['filename', 'maxX', 'maxY', 'minX', 'minY', 'faceExp_uploader']]\n",
    "df_train_panic = df_train_panic[['filename', 'maxX', 'maxY', 'minX', 'minY', 'faceExp_uploader']]\n",
    "df_train_sadness = df_train_sadness[['filename', 'maxX', 'maxY', 'minX', 'minY', 'faceExp_uploader']]"
   ]
  },
  {
   "cell_type": "code",
   "execution_count": 10,
   "metadata": {},
   "outputs": [
    {
     "data": {
      "text/plain": [
       "Index(['filename', 'maxX', 'maxY', 'minX', 'minY', 'faceExp_uploader'], dtype='object')"
      ]
     },
     "execution_count": 10,
     "metadata": {},
     "output_type": "execute_result"
    }
   ],
   "source": [
    "df_train_anger.columns"
   ]
  },
  {
   "cell_type": "code",
   "execution_count": 12,
   "metadata": {},
   "outputs": [],
   "source": [
    "df_train_anger['path'] = img_path_train_anger       # '/workspace/#Ub370#Uc774#Ud130/Data/img/train/anger/'\n",
    "df_train_happy['path'] = img_path_train_happy       # '/workspace/#Ub370#Uc774#Ud130/Data/img/train/happy/'\n",
    "df_train_panic['path'] = img_path_train_panic       # '/workspace/#Ub370#Uc774#Ud130/Data/img/train/panic/'\n",
    "df_train_sadness['path'] = img_path_train_sadness   # '/workspace/#Ub370#Uc774#Ud130/Data/img/train/sadness/'"
   ]
  },
  {
   "cell_type": "code",
   "execution_count": 16,
   "metadata": {},
   "outputs": [],
   "source": [
    "combined_df = pd.concat([df_train_anger, df_train_happy, df_train_panic, df_train_sadness], axis=0)"
   ]
  },
  {
   "cell_type": "code",
   "execution_count": 17,
   "metadata": {},
   "outputs": [
    {
     "name": "stdout",
     "output_type": "stream",
     "text": [
      "<class 'pandas.core.frame.DataFrame'>\n",
      "Index: 5993 entries, 0 to 1498\n",
      "Data columns (total 7 columns):\n",
      " #   Column            Non-Null Count  Dtype  \n",
      "---  ------            --------------  -----  \n",
      " 0   filename          5993 non-null   object \n",
      " 1   maxX              5993 non-null   float64\n",
      " 2   maxY              5993 non-null   float64\n",
      " 3   minX              5993 non-null   float64\n",
      " 4   minY              5993 non-null   float64\n",
      " 5   faceExp_uploader  5993 non-null   object \n",
      " 6   path              5993 non-null   object \n",
      "dtypes: float64(4), object(3)\n",
      "memory usage: 374.6+ KB\n"
     ]
    }
   ],
   "source": [
    "combined_df.info()"
   ]
  },
  {
   "cell_type": "code",
   "execution_count": 18,
   "metadata": {},
   "outputs": [],
   "source": [
    "combined_df.to_csv('/workspace/#Ub370#Uc774#Ud130/Data/label/train/train.csv', index=False)"
   ]
  },
  {
   "cell_type": "code",
   "execution_count": null,
   "metadata": {},
   "outputs": [],
   "source": []
  }
 ],
 "metadata": {
  "kernelspec": {
   "display_name": "uk",
   "language": "python",
   "name": "python3"
  },
  "language_info": {
   "codemirror_mode": {
    "name": "ipython",
    "version": 3
   },
   "file_extension": ".py",
   "mimetype": "text/x-python",
   "name": "python",
   "nbconvert_exporter": "python",
   "pygments_lexer": "ipython3",
   "version": "3.10.15"
  }
 },
 "nbformat": 4,
 "nbformat_minor": 2
}
