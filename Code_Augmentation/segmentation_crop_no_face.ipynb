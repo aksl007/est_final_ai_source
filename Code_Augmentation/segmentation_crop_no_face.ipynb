{
 "cells": [
  {
   "cell_type": "code",
   "execution_count": 1,
   "metadata": {},
   "outputs": [],
   "source": [
    "import pandas as pd\n",
    "import cv2\n",
    "import matplotlib.pyplot as plt\n",
    "import albumentations as A\n",
    "from albumentations.core.composition import OneOf\n",
    "import glob\n",
    "import os\n",
    "import numpy as np"
   ]
  },
  {
   "cell_type": "code",
   "execution_count": 15,
   "metadata": {},
   "outputs": [
    {
     "data": {
      "text/html": [
       "<div>\n",
       "<style scoped>\n",
       "    .dataframe tbody tr th:only-of-type {\n",
       "        vertical-align: middle;\n",
       "    }\n",
       "\n",
       "    .dataframe tbody tr th {\n",
       "        vertical-align: top;\n",
       "    }\n",
       "\n",
       "    .dataframe thead th {\n",
       "        text-align: right;\n",
       "    }\n",
       "</style>\n",
       "<table border=\"1\" class=\"dataframe\">\n",
       "  <thead>\n",
       "    <tr style=\"text-align: right;\">\n",
       "      <th></th>\n",
       "      <th>filename</th>\n",
       "      <th>maxX</th>\n",
       "      <th>maxY</th>\n",
       "      <th>minX</th>\n",
       "      <th>minY</th>\n",
       "      <th>faceExp_uploader</th>\n",
       "      <th>path</th>\n",
       "    </tr>\n",
       "  </thead>\n",
       "  <tbody>\n",
       "    <tr>\n",
       "      <th>0</th>\n",
       "      <td>q347e9fe539cb67cc112ec595fa351e0ae0ab1e57027fb...</td>\n",
       "      <td>2426.120954</td>\n",
       "      <td>1755.055182</td>\n",
       "      <td>1531.498779</td>\n",
       "      <td>578.357093</td>\n",
       "      <td>분노</td>\n",
       "      <td>/workspace/#Ub370#Uc774#Ud130/test/image/anger/</td>\n",
       "    </tr>\n",
       "    <tr>\n",
       "      <th>1</th>\n",
       "      <td>n8k53439edaa3fd087cd64e0cdffb51b3ed78af9476c79...</td>\n",
       "      <td>1950.096587</td>\n",
       "      <td>1652.864682</td>\n",
       "      <td>1100.336132</td>\n",
       "      <td>512.750743</td>\n",
       "      <td>분노</td>\n",
       "      <td>/workspace/#Ub370#Uc774#Ud130/test/image/anger/</td>\n",
       "    </tr>\n",
       "    <tr>\n",
       "      <th>2</th>\n",
       "      <td>zm6t9255f092886de2c9bc8819c55cee98d28c1a36500e...</td>\n",
       "      <td>1625.204932</td>\n",
       "      <td>1786.189538</td>\n",
       "      <td>814.467386</td>\n",
       "      <td>703.615438</td>\n",
       "      <td>분노</td>\n",
       "      <td>/workspace/#Ub370#Uc774#Ud130/test/image/anger/</td>\n",
       "    </tr>\n",
       "    <tr>\n",
       "      <th>3</th>\n",
       "      <td>xdq10b215a7aabf82c30cb477cdd4823e8c1baa4838201...</td>\n",
       "      <td>2921.362497</td>\n",
       "      <td>1391.565440</td>\n",
       "      <td>2194.335797</td>\n",
       "      <td>515.530543</td>\n",
       "      <td>분노</td>\n",
       "      <td>/workspace/#Ub370#Uc774#Ud130/test/image/anger/</td>\n",
       "    </tr>\n",
       "    <tr>\n",
       "      <th>4</th>\n",
       "      <td>o312ddd59e8f15955220465e825529352f6d1ed1b50513...</td>\n",
       "      <td>2034.405881</td>\n",
       "      <td>1511.470155</td>\n",
       "      <td>1243.836628</td>\n",
       "      <td>430.100521</td>\n",
       "      <td>분노</td>\n",
       "      <td>/workspace/#Ub370#Uc774#Ud130/test/image/anger/</td>\n",
       "    </tr>\n",
       "  </tbody>\n",
       "</table>\n",
       "</div>"
      ],
      "text/plain": [
       "                                            filename         maxX  \\\n",
       "0  q347e9fe539cb67cc112ec595fa351e0ae0ab1e57027fb...  2426.120954   \n",
       "1  n8k53439edaa3fd087cd64e0cdffb51b3ed78af9476c79...  1950.096587   \n",
       "2  zm6t9255f092886de2c9bc8819c55cee98d28c1a36500e...  1625.204932   \n",
       "3  xdq10b215a7aabf82c30cb477cdd4823e8c1baa4838201...  2921.362497   \n",
       "4  o312ddd59e8f15955220465e825529352f6d1ed1b50513...  2034.405881   \n",
       "\n",
       "          maxY         minX        minY faceExp_uploader  \\\n",
       "0  1755.055182  1531.498779  578.357093               분노   \n",
       "1  1652.864682  1100.336132  512.750743               분노   \n",
       "2  1786.189538   814.467386  703.615438               분노   \n",
       "3  1391.565440  2194.335797  515.530543               분노   \n",
       "4  1511.470155  1243.836628  430.100521               분노   \n",
       "\n",
       "                                              path  \n",
       "0  /workspace/#Ub370#Uc774#Ud130/test/image/anger/  \n",
       "1  /workspace/#Ub370#Uc774#Ud130/test/image/anger/  \n",
       "2  /workspace/#Ub370#Uc774#Ud130/test/image/anger/  \n",
       "3  /workspace/#Ub370#Uc774#Ud130/test/image/anger/  \n",
       "4  /workspace/#Ub370#Uc774#Ud130/test/image/anger/  "
      ]
     },
     "execution_count": 15,
     "metadata": {},
     "output_type": "execute_result"
    }
   ],
   "source": [
    "df = pd.read_csv('/workspace/#Ub370#Uc774#Ud130/test/label/test.csv')\n",
    "df.head()"
   ]
  },
  {
   "cell_type": "code",
   "execution_count": 16,
   "metadata": {},
   "outputs": [
    {
     "data": {
      "text/plain": [
       "faceExp_uploader\n",
       "분노    300\n",
       "기쁨    300\n",
       "당황    300\n",
       "슬픔    300\n",
       "Name: count, dtype: int64"
      ]
     },
     "execution_count": 16,
     "metadata": {},
     "output_type": "execute_result"
    }
   ],
   "source": [
    "df['faceExp_uploader'].value_counts()"
   ]
  },
  {
   "cell_type": "code",
   "execution_count": 17,
   "metadata": {},
   "outputs": [],
   "source": [
    "\n",
    "# .npz 파일 로드\n",
    "npz_train_anger = np.load('/workspace/#Ub370#Uc774#Ud130/test/segmentation/test_anger.npz')\n",
    "npz_train_happy = np.load('/workspace/#Ub370#Uc774#Ud130/test/segmentation/test_happy.npz')\n",
    "npz_train_panic = np.load('/workspace/#Ub370#Uc774#Ud130/test/segmentation/test_panic.npz')\n",
    "npz_train_sadness = np.load('/workspace/#Ub370#Uc774#Ud130/test/segmentation/test_sadness.npz')\n"
   ]
  },
  {
   "cell_type": "code",
   "execution_count": 19,
   "metadata": {},
   "outputs": [
    {
     "name": "stdout",
     "output_type": "stream",
     "text": [
      "0 / 1200\n"
     ]
    },
    {
     "name": "stderr",
     "output_type": "stream",
     "text": [
      "Invalid SOS parameters for sequential JPEG\n",
      "Invalid SOS parameters for sequential JPEG\n",
      "Invalid SOS parameters for sequential JPEG\n",
      "Invalid SOS parameters for sequential JPEG\n"
     ]
    },
    {
     "name": "stdout",
     "output_type": "stream",
     "text": [
      "100 / 1200\n"
     ]
    },
    {
     "name": "stderr",
     "output_type": "stream",
     "text": [
      "Invalid SOS parameters for sequential JPEG\n",
      "Invalid SOS parameters for sequential JPEG\n"
     ]
    },
    {
     "name": "stdout",
     "output_type": "stream",
     "text": [
      "200 / 1200\n"
     ]
    },
    {
     "name": "stderr",
     "output_type": "stream",
     "text": [
      "Invalid SOS parameters for sequential JPEG\n"
     ]
    },
    {
     "name": "stdout",
     "output_type": "stream",
     "text": [
      "300 / 1200\n"
     ]
    },
    {
     "name": "stderr",
     "output_type": "stream",
     "text": [
      "Invalid SOS parameters for sequential JPEG\n",
      "Invalid SOS parameters for sequential JPEG\n",
      "Invalid SOS parameters for sequential JPEG\n",
      "Invalid SOS parameters for sequential JPEG\n"
     ]
    },
    {
     "name": "stdout",
     "output_type": "stream",
     "text": [
      "400 / 1200\n"
     ]
    },
    {
     "name": "stderr",
     "output_type": "stream",
     "text": [
      "Invalid SOS parameters for sequential JPEG\n",
      "Invalid SOS parameters for sequential JPEG\n",
      "Invalid SOS parameters for sequential JPEG\n",
      "Invalid SOS parameters for sequential JPEG\n"
     ]
    },
    {
     "name": "stdout",
     "output_type": "stream",
     "text": [
      "500 / 1200\n"
     ]
    },
    {
     "name": "stderr",
     "output_type": "stream",
     "text": [
      "Invalid SOS parameters for sequential JPEG\n",
      "Invalid SOS parameters for sequential JPEG\n",
      "Invalid SOS parameters for sequential JPEG\n"
     ]
    },
    {
     "name": "stdout",
     "output_type": "stream",
     "text": [
      "600 / 1200\n"
     ]
    },
    {
     "name": "stderr",
     "output_type": "stream",
     "text": [
      "Invalid SOS parameters for sequential JPEG\n",
      "Invalid SOS parameters for sequential JPEG\n",
      "Invalid SOS parameters for sequential JPEG\n",
      "Invalid SOS parameters for sequential JPEG\n",
      "Invalid SOS parameters for sequential JPEG\n",
      "Invalid SOS parameters for sequential JPEG\n"
     ]
    },
    {
     "name": "stdout",
     "output_type": "stream",
     "text": [
      "700 / 1200\n"
     ]
    },
    {
     "name": "stderr",
     "output_type": "stream",
     "text": [
      "Invalid SOS parameters for sequential JPEG\n",
      "Invalid SOS parameters for sequential JPEG\n",
      "Invalid SOS parameters for sequential JPEG\n"
     ]
    },
    {
     "name": "stdout",
     "output_type": "stream",
     "text": [
      "800 / 1200\n"
     ]
    },
    {
     "name": "stderr",
     "output_type": "stream",
     "text": [
      "Invalid SOS parameters for sequential JPEG\n",
      "Invalid SOS parameters for sequential JPEG\n",
      "Invalid SOS parameters for sequential JPEG\n",
      "Invalid SOS parameters for sequential JPEG\n",
      "Invalid SOS parameters for sequential JPEG\n"
     ]
    },
    {
     "name": "stdout",
     "output_type": "stream",
     "text": [
      "900 / 1200\n"
     ]
    },
    {
     "name": "stderr",
     "output_type": "stream",
     "text": [
      "Invalid SOS parameters for sequential JPEG\n",
      "Invalid SOS parameters for sequential JPEG\n",
      "Invalid SOS parameters for sequential JPEG\n"
     ]
    },
    {
     "name": "stdout",
     "output_type": "stream",
     "text": [
      "1000 / 1200\n"
     ]
    },
    {
     "name": "stderr",
     "output_type": "stream",
     "text": [
      "Invalid SOS parameters for sequential JPEG\n",
      "Invalid SOS parameters for sequential JPEG\n",
      "Invalid SOS parameters for sequential JPEG\n",
      "Invalid SOS parameters for sequential JPEG\n",
      "Invalid SOS parameters for sequential JPEG\n",
      "Invalid SOS parameters for sequential JPEG\n"
     ]
    },
    {
     "name": "stdout",
     "output_type": "stream",
     "text": [
      "1100 / 1200\n"
     ]
    },
    {
     "name": "stderr",
     "output_type": "stream",
     "text": [
      "Invalid SOS parameters for sequential JPEG\n",
      "Invalid SOS parameters for sequential JPEG\n",
      "Invalid SOS parameters for sequential JPEG\n"
     ]
    },
    {
     "name": "stdout",
     "output_type": "stream",
     "text": [
      "Processed CSV saved to: /workspace/Data_Augumentation/segmentation_no_face/label/test/no_face_test.csv\n"
     ]
    }
   ],
   "source": [
    "processed_data = []\n",
    "\n",
    "for index, row in df.iterrows():\n",
    "    # if index == 5:\n",
    "    #     break\n",
    "    if index % 100 == 0:\n",
    "        print(f'{index} / {len(df)}')\n",
    "\n",
    "    npz_train = npz_train_anger\n",
    "    if row['faceExp_uploader'] == '기쁨':\n",
    "        npz_train = npz_train_happy\n",
    "    elif row['faceExp_uploader'] == '당황':\n",
    "        npz_train = npz_train_panic\n",
    "    elif row['faceExp_uploader'] == '슬픔':\n",
    "        npz_train = npz_train_sadness\n",
    "\n",
    "    data = npz_train[row['filename']]  # Segmentation 데이터 로드\n",
    "\n",
    "    image = cv2.imread(row['path'] + row['filename'])\n",
    "    image = cv2.cvtColor(image, cv2.COLOR_BGR2RGB)\n",
    "\n",
    "    # 원본 이미지의 크기 (width, height)\n",
    "    original_height, original_width = image.shape[:2]\n",
    "\n",
    "    # 새로운 이미지 생성 (검정색 초기화)\n",
    "    new_img = image.copy()\n",
    "    new_img[:, :] = [0, 0, 0]  # 검정색으로 초기화\n",
    "    mask = data != 3  # 얼굴 영역 추출\n",
    "    new_img[mask] = image[mask]  # 얼굴만 원본 이미지에서 가져와 새로운 이미지에 덮어씌움\n",
    "\n",
    "    image_path_anger = '/workspace/Data_Augumentation/segmentation_no_face/image/test/anger/'\n",
    "    image_path_happy = '/workspace/Data_Augumentation/segmentation_no_face/image/test/happy/'\n",
    "    image_path_panic = '/workspace/Data_Augumentation/segmentation_no_face/image/test/panic/'\n",
    "    image_path_sadness = '/workspace/Data_Augumentation/segmentation_no_face/image/test/sadness/'\n",
    "\n",
    "    # 얼굴만 남긴 이미지를 640x640으로 리사이즈 후 저장\n",
    "    output_file_path = os.path.join(image_path_anger, f\"no_face_{row['filename']}\")\n",
    "    path = image_path_anger\n",
    "    if row['faceExp_uploader'] == '기쁨':\n",
    "        output_file_path = os.path.join(image_path_happy, f\"no_face_{row['filename']}\")\n",
    "        path = image_path_happy\n",
    "    elif row['faceExp_uploader'] == '당황':\n",
    "        output_file_path = os.path.join(image_path_panic, f\"no_face_{row['filename']}\")\n",
    "        path = image_path_panic\n",
    "    elif row['faceExp_uploader'] == '슬픔':\n",
    "        output_file_path = os.path.join(image_path_sadness, f\"no_face_{row['filename']}\")\n",
    "        path = image_path_sadness\n",
    "\n",
    "    new_img_bgr = cv2.cvtColor(new_img, cv2.COLOR_RGB2BGR)  # OpenCV는 BGR 포맷 사용\n",
    "    resized_img = cv2.resize(new_img_bgr, (640, 640))  # 리사이즈\n",
    "    cv2.imwrite(output_file_path, resized_img)  # 이미지 저장\n",
    "\n",
    "    # 바운딩 박스 크기 비율 계산\n",
    "    width_ratio = 640 / original_width\n",
    "    height_ratio = 640 / original_height\n",
    "\n",
    "    new_x_min = int(row['minX'] * width_ratio)\n",
    "    new_y_min = int(row['minY'] * height_ratio)\n",
    "    new_x_max = int(row['maxX'] * width_ratio)\n",
    "    new_y_max = int(row['maxY'] * height_ratio)\n",
    "\n",
    "    # 변경된 데이터 저장\n",
    "    processed_data.append({\n",
    "        'filename': f\"no_face_{row['filename']}\",\n",
    "        'maxX': new_x_max,\n",
    "        'maxY': new_y_max,\n",
    "        'minX': new_x_min,\n",
    "        'minY': new_y_min,\n",
    "        'faceExp_uploader': row['faceExp_uploader'],\n",
    "        'path': path\n",
    "    })\n",
    "\n",
    "output_csv_path = '/workspace/Data_Augumentation/segmentation_no_face/label/test/no_face_test.csv'\n",
    "\n",
    "# 처리된 데이터 저장\n",
    "if processed_data:\n",
    "    processed_df = pd.DataFrame(processed_data)\n",
    "    os.makedirs(os.path.dirname(output_csv_path), exist_ok=True)\n",
    "    processed_df.to_csv(output_csv_path, index=False)\n",
    "    print(f\"Processed CSV saved to: {output_csv_path}\")\n",
    "else:\n",
    "    print(\"No data processed.\")\n",
    "    \n"
   ]
  },
  {
   "cell_type": "code",
   "execution_count": null,
   "metadata": {},
   "outputs": [],
   "source": []
  }
 ],
 "metadata": {
  "kernelspec": {
   "display_name": "jinseong",
   "language": "python",
   "name": "python3"
  },
  "language_info": {
   "codemirror_mode": {
    "name": "ipython",
    "version": 3
   },
   "file_extension": ".py",
   "mimetype": "text/x-python",
   "name": "python",
   "nbconvert_exporter": "python",
   "pygments_lexer": "ipython3",
   "version": "3.10.15"
  }
 },
 "nbformat": 4,
 "nbformat_minor": 2
}
