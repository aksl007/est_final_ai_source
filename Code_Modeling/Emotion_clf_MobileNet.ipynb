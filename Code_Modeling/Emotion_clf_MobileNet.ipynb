{
 "cells": [
  {
   "cell_type": "code",
   "execution_count": 1,
   "metadata": {},
   "outputs": [
    {
     "name": "stderr",
     "output_type": "stream",
     "text": [
      "2024-12-23 07:42:52.766893: E tensorflow/compiler/xla/stream_executor/cuda/cuda_dnn.cc:9342] Unable to register cuDNN factory: Attempting to register factory for plugin cuDNN when one has already been registered\n",
      "2024-12-23 07:42:52.766954: E tensorflow/compiler/xla/stream_executor/cuda/cuda_fft.cc:609] Unable to register cuFFT factory: Attempting to register factory for plugin cuFFT when one has already been registered\n",
      "2024-12-23 07:42:52.766995: E tensorflow/compiler/xla/stream_executor/cuda/cuda_blas.cc:1518] Unable to register cuBLAS factory: Attempting to register factory for plugin cuBLAS when one has already been registered\n"
     ]
    }
   ],
   "source": [
    "import os\n",
    "import cv2\n",
    "import numpy as np\n",
    "import pandas as pd\n",
    "import matplotlib.pyplot as plt\n",
    "\n",
    "import tensorflow as tf\n",
    "from tensorflow.keras.preprocessing.image import ImageDataGenerator\n",
    "from tensorflow.keras.applications import MobileNet\n",
    "from tensorflow.keras.applications.mobilenet import preprocess_input\n",
    "from tensorflow.keras.layers import Dense, GlobalAveragePooling2D, Dropout\n",
    "from tensorflow.keras.models import Model, Sequential\n",
    "from tensorflow.keras.optimizers import Adam\n"
   ]
  },
  {
   "cell_type": "code",
   "execution_count": 2,
   "metadata": {},
   "outputs": [],
   "source": [
    "# 데이터 로드\n",
    "\n",
    "# 증강 데이터\n",
    "df_mask_boxout = pd.read_csv('/workspace/Data_Augumentation/out_box_masking/label/train/mask_boxout.csv')\n",
    "df_crop_face = pd.read_csv('/workspace/Data_Augumentation/segmentation_face/label/train/face_only_train.csv')"
   ]
  },
  {
   "cell_type": "code",
   "execution_count": 3,
   "metadata": {},
   "outputs": [],
   "source": [
    "# 이미지 경로 열 생성\n",
    "\n",
    "df_mask_boxout['img_path'] = df_mask_boxout['path'] + df_mask_boxout['filename']\n",
    "df_crop_face['img_path'] = df_crop_face['path'] + df_crop_face['filename']\n"
   ]
  },
  {
   "cell_type": "code",
   "execution_count": 4,
   "metadata": {},
   "outputs": [
    {
     "name": "stdout",
     "output_type": "stream",
     "text": [
      "Found 5993 validated image filenames belonging to 4 classes.\n",
      "Found 5993 validated image filenames belonging to 4 classes.\n"
     ]
    },
    {
     "name": "stdout",
     "output_type": "stream",
     "text": [
      "Mask Boxout Class Indices:\n",
      "{'기쁨': 0, '당황': 1, '분노': 2, '슬픔': 3}\n",
      "Crop Face Class Indices:\n",
      "{'기쁨': 0, '당황': 1, '분노': 2, '슬픔': 3}\n"
     ]
    }
   ],
   "source": [
    "# 데이터 로드\n",
    "target_size = (224,224)     # 모델 입력에 맞는 사이즈 설정\n",
    "num_classes = len(df_mask_boxout['faceExp_uploader'].unique())  # 클래스 수 계산\n",
    "\n",
    "# ImageDataGenerator 정의 \n",
    "datagen = ImageDataGenerator(preprocessing_function=preprocess_input)  # 픽셀 값 정규화 [-1, 1]\n",
    "\n",
    "# mask boxout 데이터 generator 정의\n",
    "mask_boxout_generator = datagen.flow_from_dataframe(\n",
    "    dataframe=df_mask_boxout,         # Pandas DataFrame with image paths and labels\n",
    "    directory=None,                   # Root directory for relative image paths\n",
    "    x_col='img_path',                 # Column name in DataFrame containing image file paths\n",
    "    y_col='faceExp_uploader',         # Column name in DataFrame containing labels\n",
    "    target_size=target_size,          # Resize all images to (224, 224) pixels\n",
    "    batch_size=32,                    # Number of images per batch\n",
    "    class_mode='categorical'          # Multi-class classification: output one-hot encoded labels\n",
    ")\n",
    "\n",
    "#  crop face 데이터 generator 정의\n",
    "crop_face_generator = datagen.flow_from_dataframe(\n",
    "    dataframe=df_crop_face,            # Pandas DataFrame with image paths and labels\n",
    "    directory=None,                   # Root directory for relative image paths\n",
    "    x_col='img_path',                 # Column name in DataFrame containing image file paths\n",
    "    y_col='faceExp_uploader',         # Column name in DataFrame containing labels\n",
    "    target_size=target_size,           # Resize all images to (224, 224) pixels\n",
    "    batch_size=32,                    # Number of images per batch\n",
    "    class_mode='categorical'          # Multi-class classification: output one-hot encoded labels\n",
    ")\n",
    "\n",
    "# 제너레이터 병합 함수 정의\n",
    "def combined_generator(generator1, generator2):\n",
    "    while True:\n",
    "        data1 = next(generator1)\n",
    "        data2 = next(generator2)\n",
    "        \n",
    "        # 이미지와 라벨 병합\n",
    "        x_combined = np.concatenate([data1[0], data2[0]], axis=0)\n",
    "        y_combined = np.concatenate([data1[1], data2[1]], axis=0)\n",
    "        \n",
    "        yield x_combined, y_combined\n",
    "\n",
    "# 병합된 데이터 제너레이터 생성\n",
    "train_generator = combined_generator(mask_boxout_generator, crop_face_generator)\n",
    "\n",
    "# 총 학습 데이터 개수 계산\n",
    "total_train_samples = len(df_mask_boxout) + len(df_crop_face)\n",
    "\n",
    "# mask boxout generator의 클래스 레이블 매핑 확인\n",
    "print(\"Mask Boxout Class Indices:\")\n",
    "print(mask_boxout_generator.class_indices)\n",
    "\n",
    "# crop face generator의 클래스 레이블 매핑 확인\n",
    "print(\"Crop Face Class Indices:\")\n",
    "print(crop_face_generator.class_indices)\n",
    "\n"
   ]
  },
  {
   "cell_type": "code",
   "execution_count": 5,
   "metadata": {},
   "outputs": [
    {
     "name": "stderr",
     "output_type": "stream",
     "text": [
      "2024-12-23 07:43:11.747116: I tensorflow/core/common_runtime/gpu/gpu_device.cc:1886] Created device /job:localhost/replica:0/task:0/device:GPU:0 with 13980 MB memory:  -> device: 0, name: NVIDIA RTX A4000, pci bus id: 0000:04:00.0, compute capability: 8.6\n"
     ]
    }
   ],
   "source": [
    "# 사전 학습 모델 로드 (MobileNet)\n",
    "base_model = MobileNet(weights='imagenet', include_top=False, input_shape=(224, 224, 3))\n",
    "\n",
    "# 커스텀 레이어 추가\n",
    "x = base_model.output\n",
    "x = GlobalAveragePooling2D()(x)\n",
    "x = Dropout(0.5)(x)\n",
    "x = Dense(256, activation='relu')(x)\n",
    "x = Dropout(0.5)(x)\n",
    "predictions = Dense(num_classes, activation='softmax')(x)  # num_classes는 클래스 수\n",
    "\n",
    "# 전체 모델 구성\n",
    "model = Model(inputs=base_model.input, outputs=predictions)"
   ]
  },
  {
   "cell_type": "code",
   "execution_count": 6,
   "metadata": {},
   "outputs": [
    {
     "name": "stdout",
     "output_type": "stream",
     "text": [
      "Epoch 1/10\n"
     ]
    },
    {
     "name": "stderr",
     "output_type": "stream",
     "text": [
      "2024-12-23 07:43:27.889474: I tensorflow/compiler/xla/stream_executor/cuda/cuda_dnn.cc:442] Loaded cuDNN version 8700\n",
      "2024-12-23 07:43:30.154158: I tensorflow/compiler/xla/service/service.cc:168] XLA service 0x7097d88f5e50 initialized for platform CUDA (this does not guarantee that XLA will be used). Devices:\n",
      "2024-12-23 07:43:30.154241: I tensorflow/compiler/xla/service/service.cc:176]   StreamExecutor device (0): NVIDIA RTX A4000, Compute Capability 8.6\n",
      "2024-12-23 07:43:30.173748: I tensorflow/compiler/mlir/tensorflow/utils/dump_mlir_util.cc:269] disabling MLIR crash reproducer, set env var `MLIR_CRASH_REPRODUCER_DIRECTORY` to enable.\n",
      "2024-12-23 07:43:30.358613: I ./tensorflow/compiler/jit/device_compiler.h:186] Compiled cluster using XLA!  This line is logged at most once for the lifetime of the process.\n"
     ]
    },
    {
     "name": "stdout",
     "output_type": "stream",
     "text": [
      "374/374 [==============================] - 180s 428ms/step - loss: 0.6727 - accuracy: 0.7455\n",
      "Epoch 2/10\n",
      "374/374 [==============================] - 161s 431ms/step - loss: 0.2886 - accuracy: 0.9006\n",
      "Epoch 3/10\n",
      "374/374 [==============================] - 155s 414ms/step - loss: 0.1678 - accuracy: 0.9437\n",
      "Epoch 4/10\n",
      "374/374 [==============================] - 153s 410ms/step - loss: 0.1196 - accuracy: 0.9600\n",
      "Epoch 5/10\n",
      "374/374 [==============================] - 155s 415ms/step - loss: 0.0962 - accuracy: 0.9679\n",
      "Epoch 6/10\n",
      "374/374 [==============================] - 155s 414ms/step - loss: 0.0813 - accuracy: 0.9746\n",
      "Epoch 7/10\n",
      "374/374 [==============================] - 151s 405ms/step - loss: 0.0635 - accuracy: 0.9789\n",
      "Epoch 8/10\n",
      "374/374 [==============================] - 156s 416ms/step - loss: 0.0523 - accuracy: 0.9826\n",
      "Epoch 9/10\n",
      "374/374 [==============================] - 152s 405ms/step - loss: 0.0582 - accuracy: 0.9807\n",
      "Epoch 10/10\n",
      "374/374 [==============================] - 155s 415ms/step - loss: 0.0599 - accuracy: 0.9815\n"
     ]
    }
   ],
   "source": [
    "# 모델 컴파일 및 학습 \n",
    "lr = 0.001\n",
    "epochs = 10\n",
    "batch_size = 32\n",
    "steps_per_epoch = total_train_samples // batch_size\n",
    "\n",
    "# 모델 컴파일\n",
    "model.compile(optimizer=Adam(learning_rate=lr), loss='categorical_crossentropy', metrics=['accuracy'])\n",
    "\n",
    "# 모델 학습\n",
    "history = model.fit(\n",
    "    train_generator,\n",
    "    steps_per_epoch=steps_per_epoch,\n",
    "    epochs=epochs\n",
    ")"
   ]
  },
  {
   "cell_type": "code",
   "execution_count": 11,
   "metadata": {},
   "outputs": [
    {
     "data": {
      "image/png": "[encoded data removed]",
      "text/plain": [
       "<Figure size 1200x500 with 2 Axes>"
      ]
     },
     "metadata": {},
     "output_type": "display_data"
    }
   ],
   "source": [
    "def plot_training_history(history):\n",
    "    \"\"\"Plot training and validation accuracy/loss.\"\"\"\n",
    "    # Extract data from history\n",
    "    acc = history.history['accuracy']\n",
    "    # val_acc = history.history['val_accuracy']\n",
    "    loss = history.history['loss']\n",
    "    # val_loss = history.history['val_loss']\n",
    "\n",
    "    epochs = range(1, len(acc) + 1)\n",
    "\n",
    "    # Plot accuracy\n",
    "    plt.figure(figsize=(12, 5))\n",
    "    plt.subplot(1, 2, 1)\n",
    "    plt.plot(epochs, acc, label='Training Accuracy')\n",
    "    # plt.plot(epochs, val_acc, label='Validation Accuracy')\n",
    "    plt.title('Training Accuracy')\n",
    "    plt.xlabel('Epochs')\n",
    "    plt.ylabel('Accuracy')\n",
    "    plt.legend()\n",
    "\n",
    "    # Plot loss\n",
    "    plt.subplot(1, 2, 2)\n",
    "    plt.plot(epochs, loss, label='Training Loss')\n",
    "    # plt.plot(epochs, val_loss, label='Validation Loss')\n",
    "    plt.title('Training Loss')\n",
    "    plt.xlabel('Epochs')\n",
    "    plt.ylabel('Loss')\n",
    "    plt.legend()\n",
    "\n",
    "    plt.tight_layout()\n",
    "    plt.show()\n",
    "\n",
    "# Call the function to plot\n",
    "plot_training_history(history)\n"
   ]
  },
  {
   "cell_type": "code",
   "execution_count": 12,
   "metadata": {},
   "outputs": [
    {
     "name": "stderr",
     "output_type": "stream",
     "text": [
      "/root/miniconda3/envs/uk/lib/python3.10/site-packages/keras/src/engine/training.py:3079: UserWarning: You are saving your model as an HDF5 file via `model.save()`. This file format is considered legacy. We recommend using instead the native Keras format, e.g. `model.save('my_model.keras')`.\n",
      "  saving_api.save_model(\n"
     ]
    }
   ],
   "source": [
    "# 모델 저장\n",
    "model.save('/workspace/uk/Emotion_Classifier_MoblieNet.h5')"
   ]
  }
 ],
 "metadata": {
  "kernelspec": {
   "display_name": "uk",
   "language": "python",
   "name": "python3"
  },
  "language_info": {
   "codemirror_mode": {
    "name": "ipython",
    "version": 3
   },
   "file_extension": ".py",
   "mimetype": "text/x-python",
   "name": "python",
   "nbconvert_exporter": "python",
   "pygments_lexer": "ipython3",
   "version": "3.10.15"
  }
 },
 "nbformat": 4,
 "nbformat_minor": 2
}
